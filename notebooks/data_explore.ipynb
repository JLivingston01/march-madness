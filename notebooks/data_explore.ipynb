{
 "cells": [
  {
   "cell_type": "code",
   "execution_count": 1,
   "metadata": {},
   "outputs": [],
   "source": [
    "import pandas as pd\n",
    "import numpy as np\n",
    "from sklearn.ensemble import RandomForestRegressor\n",
    "from sklearn.pipeline import Pipeline\n",
    "from sklearn.preprocessing import MinMaxScaler\n",
    "pd.set_option(\"display.max_columns\",75)"
   ]
  },
  {
   "cell_type": "code",
   "execution_count": 2,
   "metadata": {},
   "outputs": [],
   "source": [
    "## FEATURE FUNCS\n",
    "\n",
    "def strip_and_make_0_float(x):\n",
    "\n",
    "    return x.str.split(expand=True)[0].astype(float)\n",
    "\n",
    "def featurize(table,process_name=True):\n",
    "\n",
    "    table.columns = [\n",
    "        'rk','team','conf','g','rec','adjoe','adjde','barthag','efg_pct','efgd_pct',\n",
    "        'tor','tord','orb','drb','ftr','ftrd','2p_pct','2pd_pct','3p_pct','3pd_pct','adj_t','wab'\n",
    "    ]\n",
    "\n",
    "    table = table[table['rk']!='Rk'].copy()\n",
    "    table[['w','l']]=table['rec'].str.split(expand=True)[0].str.split(\"–\",expand=True).astype(int)\n",
    "    table['win_perc'] = table['w']/(table['w']+table['l'])\n",
    "\n",
    "    if process_name:\n",
    "        table[['team','tourney']]=table['team'].str.split(\",\",expand=True)\n",
    "        table['team'] = table['team'].str.replace(\" seed\",\"\").apply(\n",
    "            lambda x: ''.join([i for i in x if (i.isalpha())|(i==\" \")])\n",
    "        ).str.strip()\n",
    "        table['tourney'] = table['tourney'].fillna('no tourney').str.strip()\n",
    "\n",
    "        tourney_values = {\n",
    "            'no tourney':128,\n",
    "            'R68':68,\n",
    "            'R64':64,\n",
    "            'R32':32,\n",
    "            'Sweet Sixteen':16,\n",
    "            'Elite Eight':8,\n",
    "            'Final Four':4,\n",
    "            'Finals':2,\n",
    "            'CHAMPS':1,\n",
    "        }\n",
    "\n",
    "        table['OUTCOME'] = table['tourney'].map(tourney_values)\n",
    "\n",
    "    table['adjoe'] = strip_and_make_0_float(table['adjoe'])\n",
    "    table['adjde'] = strip_and_make_0_float(table['adjde'])\n",
    "    table['barthag'] = strip_and_make_0_float(table['barthag'])\n",
    "    table['efg_pct'] = strip_and_make_0_float(table['efg_pct'])\n",
    "    table['efgd_pct'] = strip_and_make_0_float(table['efgd_pct'])\n",
    "    table['tor'] = strip_and_make_0_float(table['tor'])\n",
    "    table['tord'] = strip_and_make_0_float(table['tord'])\n",
    "    table['orb'] = strip_and_make_0_float(table['orb'])\n",
    "    table['drb'] = strip_and_make_0_float(table['drb'])\n",
    "    table['ftr'] = strip_and_make_0_float(table['ftr'])\n",
    "    table['ftrd'] = strip_and_make_0_float(table['ftrd'])\n",
    "    table['2p_pct'] = strip_and_make_0_float(table['2p_pct'])\n",
    "    table['2pd_pct'] = strip_and_make_0_float(table['2pd_pct'])\n",
    "    table['3p_pct'] = strip_and_make_0_float(table['3p_pct'])\n",
    "    table['3pd_pct'] = strip_and_make_0_float(table['3pd_pct'])\n",
    "    table['adj_t'] = strip_and_make_0_float(table['adj_t'])\n",
    "    table['wab'] = strip_and_make_0_float(table['wab'])\n",
    "\n",
    "\n",
    "    conferences = ['WCC', 'Amer', 'B12', 'ACC', 'SEC', 'BE', 'P12', 'B10', 'MWC',\n",
    "        'MVC', 'A10', 'OVC', 'CUSA', 'AE', 'SC', 'WAC', 'Sum', 'CAA',\n",
    "        'MAAC', 'MAC', 'Ivy', 'ASun', 'Pat', 'SB', 'BW', 'BSth', 'BSky',\n",
    "        'NEC', 'Horz', 'SWAC', 'MEAC', 'Slnd']\n",
    "\n",
    "\n",
    "    for c in conferences:\n",
    "        table[c] = np.where(table['conf']==c,1,0)\n",
    "\n",
    "    return table"
   ]
  },
  {
   "cell_type": "code",
   "execution_count": null,
   "metadata": {},
   "outputs": [],
   "source": [
    "years = [\n",
    "    2008,\n",
    "    2009,\n",
    "    2010,\n",
    "    2011,\n",
    "    2012,\n",
    "    2013,\n",
    "    2014,\n",
    "    2015,\n",
    "    2016,\n",
    "    2017,\n",
    "    2018,\n",
    "    2019,\n",
    "    2021,\n",
    "    2022\n",
    "         ]\n",
    "\n",
    "out = pd.DataFrame()\n",
    "for year in years:\n",
    "    print(year)\n",
    "\n",
    "    url = f\"https://barttorvik.com/trank.php?year={year}&type=R\"\n",
    "\n",
    "    tables = pd.read_html(url)\n",
    "\n",
    "    table = tables[0]\n",
    "\n",
    "    tmp = featurize(table)\n",
    "\n",
    "    tmp['year']=year\n",
    "\n",
    "    out = pd.concat([out,tmp])"
   ]
  },
  {
   "cell_type": "code",
   "execution_count": null,
   "metadata": {},
   "outputs": [],
   "source": [
    "out"
   ]
  },
  {
   "cell_type": "code",
   "execution_count": null,
   "metadata": {},
   "outputs": [],
   "source": [
    "training_mask = out['year'].isin([2008,\n",
    "    2009,\n",
    "    2010,\n",
    "    2011,\n",
    "    2012,\n",
    "    2013,\n",
    "    2014,\n",
    "    2015,\n",
    "    2016,\n",
    "    2017,\n",
    "    2018,\n",
    "    2019,\n",
    "    2021,])\n",
    "validation_mask = out['year'].isin([2022])\n"
   ]
  },
  {
   "cell_type": "code",
   "execution_count": null,
   "metadata": {},
   "outputs": [],
   "source": [
    "features = ['adjoe', 'adjde', 'barthag',\n",
    "       'efg_pct', 'efgd_pct', 'tor', 'tord', 'orb', 'drb', 'ftr', 'ftrd',\n",
    "       '2p_pct', '2pd_pct', '3p_pct', '3pd_pct',\n",
    "       'win_perc', \n",
    "       'WCC', 'Amer', 'B12', 'ACC', 'SEC',\n",
    "       'BE', 'P12', 'B10', 'MWC', 'MVC', 'A10', 'OVC', 'CUSA', 'AE', 'SC',\n",
    "       'WAC', 'Sum', 'CAA', 'MAAC', 'MAC', 'Ivy', 'ASun', 'Pat', 'SB', 'BW',\n",
    "       'BSth', 'BSky', 'NEC', 'Horz', 'SWAC', 'MEAC', 'Slnd'\n",
    "       ]\n",
    "target = 'OUTCOME'"
   ]
  },
  {
   "cell_type": "code",
   "execution_count": null,
   "metadata": {},
   "outputs": [],
   "source": [
    "X = out[training_mask][features].copy()\n",
    "y = out[training_mask][target].copy()"
   ]
  },
  {
   "cell_type": "code",
   "execution_count": null,
   "metadata": {},
   "outputs": [],
   "source": [
    "model = Pipeline(\n",
    "    steps=[\n",
    "    ('scaler',MinMaxScaler()),\n",
    "    ('learner',RandomForestRegressor(n_estimators=500,random_state=50,#max_depth=8\n",
    "                                     ))\n",
    "    ]\n",
    ")"
   ]
  },
  {
   "cell_type": "code",
   "execution_count": null,
   "metadata": {},
   "outputs": [],
   "source": [
    "model.fit(X,y)"
   ]
  },
  {
   "cell_type": "code",
   "execution_count": null,
   "metadata": {},
   "outputs": [],
   "source": [
    "yfit = model.predict(X)"
   ]
  },
  {
   "cell_type": "code",
   "execution_count": null,
   "metadata": {},
   "outputs": [],
   "source": [
    "Xx = out[validation_mask][features].copy()\n",
    "yy = out[validation_mask][target].copy()\n",
    "yval = model.predict(Xx)"
   ]
  },
  {
   "cell_type": "code",
   "execution_count": null,
   "metadata": {},
   "outputs": [],
   "source": [
    "val_result = pd.DataFrame({\n",
    "    'team':out[validation_mask]['team'],\n",
    "    'OUTCOME':yy})\n",
    "val_result['PREDICTION_NUMERIC'] = yval\n",
    "val_result['PREDICTION_RANK']=val_result['PREDICTION_NUMERIC'].rank(ascending=True,)"
   ]
  },
  {
   "cell_type": "code",
   "execution_count": null,
   "metadata": {},
   "outputs": [],
   "source": [
    "val_result.sort_values(by='PREDICTION_RANK',ascending=True).head(50)"
   ]
  },
  {
   "cell_type": "code",
   "execution_count": null,
   "metadata": {},
   "outputs": [],
   "source": [
    "testyear = 2023\n",
    "\n",
    "url = f\"https://barttorvik.com/trank.php?year={testyear}&type=R\"\n",
    "\n",
    "tables = pd.read_html(url)\n",
    "\n",
    "table = tables[0]\n",
    "\n",
    "tmp = featurize(table,process_name=False)\n",
    "\n",
    "tmp['year']=year\n"
   ]
  },
  {
   "cell_type": "code",
   "execution_count": null,
   "metadata": {},
   "outputs": [],
   "source": [
    "prediction_df = pd.DataFrame({\n",
    "    'team':tmp['team'],\n",
    "    'rating':model.predict(tmp[features])\n",
    "})\n",
    "    \n",
    "prediction_df"
   ]
  },
  {
   "cell_type": "code",
   "execution_count": null,
   "metadata": {},
   "outputs": [],
   "source": [
    "prediction_df.sort_values(by='rating',ascending=True).head(50)"
   ]
  },
  {
   "cell_type": "code",
   "execution_count": null,
   "metadata": {},
   "outputs": [],
   "source": []
  },
  {
   "cell_type": "code",
   "execution_count": null,
   "metadata": {},
   "outputs": [],
   "source": []
  },
  {
   "cell_type": "code",
   "execution_count": null,
   "metadata": {},
   "outputs": [],
   "source": [
    "url_root = \"https://barttorvik.com/trank.php?year={y}&type=R\"\n"
   ]
  },
  {
   "cell_type": "code",
   "execution_count": null,
   "metadata": {},
   "outputs": [],
   "source": [
    "url_root.format(y=2021)"
   ]
  },
  {
   "cell_type": "code",
   "execution_count": null,
   "metadata": {},
   "outputs": [],
   "source": []
  }
 ],
 "metadata": {
  "kernelspec": {
   "display_name": ".venv",
   "language": "python",
   "name": "python3"
  },
  "language_info": {
   "codemirror_mode": {
    "name": "ipython",
    "version": 3
   },
   "file_extension": ".py",
   "mimetype": "text/x-python",
   "name": "python",
   "nbconvert_exporter": "python",
   "pygments_lexer": "ipython3",
   "version": "3.11.1"
  },
  "orig_nbformat": 4,
  "vscode": {
   "interpreter": {
    "hash": "1fb296a8f56d67bebcb058f9e80f39e8a7b7d6bc329e9088f9c2774ca9500635"
   }
  }
 },
 "nbformat": 4,
 "nbformat_minor": 2
}
