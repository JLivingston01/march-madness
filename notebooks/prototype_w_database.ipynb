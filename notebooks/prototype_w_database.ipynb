{
 "cells": [
  {
   "cell_type": "code",
   "execution_count": 1,
   "metadata": {},
   "outputs": [],
   "source": [
    "import pandas as pd\n",
    "import numpy as np\n",
    "import sqlite3\n",
    "import os\n",
    "pd.set_option(\"display.max_columns\",75)\n"
   ]
  },
  {
   "cell_type": "code",
   "execution_count": 3,
   "metadata": {},
   "outputs": [],
   "source": [
    "conn = sqlite3.Connection(\"../artifacts/data/db.sqlite3\")\n",
    "\n",
    "dat = pd.read_sql('select * from RAW',\n",
    "con=conn)"
   ]
  },
  {
   "cell_type": "code",
   "execution_count": 5,
   "metadata": {},
   "outputs": [],
   "source": [
    "## FEATURE FUNCS\n",
    "\n",
    "def strip_and_make_0_float(x: str) -> float:\n",
    "    \"\"\"\n",
    "    Special purpose function for saving only a float value found at front of a string in stats data.\n",
    "\n",
    "    Args:\n",
    "        x (str): string that contained a float followed by multiple pieces of metadata space-separated\n",
    "\n",
    "    Returns:\n",
    "        float: value pulled from string\n",
    "    \"\"\"\n",
    "    return x.str.split(expand=True)[0].astype(float)\n",
    "\n",
    "def featurize(table: pd.DataFrame) -> pd.DataFrame:\n",
    "    \"\"\"\n",
    "    Takes a table of stats data and returns additional feature columns for ML processes.\n",
    "\n",
    "    Args:\n",
    "        table (pd.DataFrame): Table of Raws\n",
    "\n",
    "    Returns:\n",
    "        pd.DataFrame: DF with features\n",
    "    \"\"\"\n",
    "    table[['w','l']]=table['rec'].str.split(expand=True)[0].str.split(\"–\",expand=True).astype(int)\n",
    "    table['win_perc'] = table['w']/(table['w']+table['l'])\n",
    "\n",
    "    table['tourney'] = np.where(\n",
    "        table['team'].str.contains('CHAMPS'),'CHAMPS',\n",
    "        np.where(\n",
    "        table['team'].str.contains('Finals'),'Finals',\n",
    "        np.where(\n",
    "        table['team'].str.contains('Final Four'),'Final Four',\n",
    "        np.where(\n",
    "        table['team'].str.contains('Elite Eight'),'Elite Eight',\n",
    "        np.where(\n",
    "        table['team'].str.contains('Sweet Sixteen'),'Sweet Sixteen',\n",
    "        np.where(\n",
    "        table['team'].str.contains('R32'),'R32',\n",
    "        np.where(\n",
    "        table['team'].str.contains('R64'),'R64',\n",
    "        np.where(\n",
    "        table['team'].str.contains('R68'),'R68',\n",
    "        'no tourney'\n",
    "        )\n",
    "        )\n",
    "        )\n",
    "        )\n",
    "        )\n",
    "        )\n",
    "        )\n",
    "    )\n",
    "\n",
    "    table['team']=table['team'].str.split(\",\",expand=True)[0]\n",
    "    table['team'] = table['team'].str.replace(\" seed\",\"\").apply(\n",
    "        lambda x: ''.join([i for i in x if (i.isalpha())|(i==\" \")])\n",
    "    ).str.strip()\n",
    "\n",
    "    tourney_values = {\n",
    "        'no tourney':128,\n",
    "        'R68':68,\n",
    "        'R64':64,\n",
    "        'R32':32,\n",
    "        'Sweet Sixteen':16,\n",
    "        'Elite Eight':8,\n",
    "        'Final Four':4,\n",
    "        'Finals':2,\n",
    "        'CHAMPS':1,\n",
    "    }\n",
    "\n",
    "    table['OUTCOME'] = table['tourney'].map(tourney_values)\n",
    "\n",
    "    table['adjoe'] = strip_and_make_0_float(table['adjoe'])\n",
    "    table['adjde'] = strip_and_make_0_float(table['adjde'])\n",
    "    table['barthag'] = strip_and_make_0_float(table['barthag'])\n",
    "    table['efg_pct'] = strip_and_make_0_float(table['efg_pct'])\n",
    "    table['efgd_pct'] = strip_and_make_0_float(table['efgd_pct'])\n",
    "    table['tor'] = strip_and_make_0_float(table['tor'])\n",
    "    table['tord'] = strip_and_make_0_float(table['tord'])\n",
    "    table['orb'] = strip_and_make_0_float(table['orb'])\n",
    "    table['drb'] = strip_and_make_0_float(table['drb'])\n",
    "    table['ftr'] = strip_and_make_0_float(table['ftr'])\n",
    "    table['ftrd'] = strip_and_make_0_float(table['ftrd'])\n",
    "    table['2p_pct'] = strip_and_make_0_float(table['2p_pct'])\n",
    "    table['2pd_pct'] = strip_and_make_0_float(table['2pd_pct'])\n",
    "    table['3p_pct'] = strip_and_make_0_float(table['3p_pct'])\n",
    "    table['3pd_pct'] = strip_and_make_0_float(table['3pd_pct'])\n",
    "    table['adj_t'] = strip_and_make_0_float(table['adj_t'])\n",
    "    table['wab'] = strip_and_make_0_float(table['wab'])\n",
    "\n",
    "    conferences = ['WCC', 'Amer', 'B12', 'ACC', 'SEC', 'BE', 'P12', 'B10', 'MWC',\n",
    "        'MVC', 'A10', 'OVC', 'CUSA', 'AE', 'SC', 'WAC', 'Sum', 'CAA',\n",
    "        'MAAC', 'MAC', 'Ivy', 'ASun', 'Pat', 'SB', 'BW', 'BSth', 'BSky',\n",
    "        'NEC', 'Horz', 'SWAC', 'MEAC', 'Slnd']\n",
    "\n",
    "    for c in conferences:\n",
    "        table[c] = np.where(table['conf']==c,1,0)\n",
    "\n",
    "    return table"
   ]
  },
  {
   "cell_type": "code",
   "execution_count": 7,
   "metadata": {},
   "outputs": [],
   "source": [
    "features = featurize(dat)\n"
   ]
  },
  {
   "cell_type": "code",
   "execution_count": null,
   "metadata": {},
   "outputs": [],
   "source": []
  }
 ],
 "metadata": {
  "kernelspec": {
   "display_name": ".venv",
   "language": "python",
   "name": "python3"
  },
  "language_info": {
   "codemirror_mode": {
    "name": "ipython",
    "version": 3
   },
   "file_extension": ".py",
   "mimetype": "text/x-python",
   "name": "python",
   "nbconvert_exporter": "python",
   "pygments_lexer": "ipython3",
   "version": "3.11.1"
  },
  "orig_nbformat": 4,
  "vscode": {
   "interpreter": {
    "hash": "1fb296a8f56d67bebcb058f9e80f39e8a7b7d6bc329e9088f9c2774ca9500635"
   }
  }
 },
 "nbformat": 4,
 "nbformat_minor": 2
}
